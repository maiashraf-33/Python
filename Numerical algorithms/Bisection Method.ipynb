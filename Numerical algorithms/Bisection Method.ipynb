{
 "cells": [
  {
   "cell_type": "code",
   "execution_count": 9,
   "metadata": {},
   "outputs": [],
   "source": [
    "import numpy as np\n",
    "import matplotlib.pyplot as plt"
   ]
  },
  {
   "cell_type": "code",
   "execution_count": 3,
   "metadata": {},
   "outputs": [],
   "source": [
    "# My function\n",
    "def f(x):\n",
    "    return np.exp(x)-5*x+2\n",
    "\n",
    "def bisection(a, b, f, t):\n",
    "    \"\"\"Calculate the root in a given interval\n",
    "    \n",
    "        Args: \n",
    "        a(float): \n",
    "            the beginning of the interval\n",
    "        b(float):\n",
    "            the end of the interval\n",
    "            \n",
    "        Returns:\n",
    "            tuple of two arguments the first the root in you interval \n",
    "            the second is the number of iterations the loop taks to find the root\n",
    "    \"\"\"\n",
    "    g = (a+b)/2\n",
    "    i=0\n",
    "    while(abs(b-a) > t):\n",
    "        i = i+1\n",
    "        if f(g)*f(b) <= 0:\n",
    "            a=g\n",
    "            g=(a+b)/2\n",
    "        else:\n",
    "            b=g\n",
    "            g=(a+b)/2\n",
    "    return g, i"
   ]
  },
  {
   "cell_type": "code",
   "execution_count": 18,
   "metadata": {},
   "outputs": [
    {
     "data": {
      "text/plain": [
       "(0.8842151641845702, 18)"
      ]
     },
     "execution_count": 18,
     "metadata": {},
     "output_type": "execute_result"
    }
   ],
   "source": [
    "bisection(-1, 1, f , 1e-5)  # the first root"
   ]
  },
  {
   "cell_type": "code",
   "execution_count": 5,
   "metadata": {},
   "outputs": [
    {
     "data": {
      "text/plain": [
       "(2.193744659423828, 17)"
      ]
     },
     "execution_count": 5,
     "metadata": {},
     "output_type": "execute_result"
    }
   ],
   "source": [
    "bisection(2, 3, f , 1e-5) # the second root"
   ]
  }
 ],
 "metadata": {
  "kernelspec": {
   "display_name": "Python 3",
   "language": "python",
   "name": "python3"
  },
  "language_info": {
   "codemirror_mode": {
    "name": "ipython",
    "version": 3
   },
   "file_extension": ".py",
   "mimetype": "text/x-python",
   "name": "python",
   "nbconvert_exporter": "python",
   "pygments_lexer": "ipython3",
   "version": "3.8.5"
  }
 },
 "nbformat": 4,
 "nbformat_minor": 4
}
