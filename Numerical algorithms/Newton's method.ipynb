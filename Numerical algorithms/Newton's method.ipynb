{
 "cells": [
  {
   "cell_type": "markdown",
   "metadata": {},
   "source": [
    "# Newton-raphson method"
   ]
  },
  {
   "cell_type": "code",
   "execution_count": 1,
   "metadata": {},
   "outputs": [],
   "source": [
    "# from sympy.parsing.sympy_parser import parse_expr\n",
    "from sympy import *\n",
    "\n",
    "def newton_method(init_value, num_of_iterations,function):\n",
    "    function = parse_expr(function)\n",
    "    x = Symbol('x')\n",
    "    prime = function.diff(x)\n",
    "    \n",
    "    new_x = init_value\n",
    "    \n",
    "    for i in range(num_of_iterations):\n",
    "        f = function.subs(x, new_x)\n",
    "        f_=prime.subs(x, new_x)\n",
    "        new_x = new_x-f/f_\n",
    "        print(float(new_x))"
   ]
  },
  {
   "cell_type": "markdown",
   "metadata": {},
   "source": [
    "### (a)"
   ]
  },
  {
   "cell_type": "code",
   "execution_count": 2,
   "metadata": {},
   "outputs": [
    {
     "name": "stdout",
     "output_type": "stream",
     "text": [
      "2.0\n",
      "1.6666666666666667\n",
      "1.619047619047619\n",
      "1.618034447821682\n"
     ]
    }
   ],
   "source": [
    "newton_method(1, 4, 'x**2-x-1')"
   ]
  },
  {
   "cell_type": "markdown",
   "metadata": {},
   "source": [
    "### (b)"
   ]
  },
  {
   "cell_type": "code",
   "execution_count": 3,
   "metadata": {},
   "outputs": [
    {
     "name": "stdout",
     "output_type": "stream",
     "text": [
      "6.0\n",
      "5.71875\n",
      "5.686201968134958\n",
      "5.68577959677987\n"
     ]
    }
   ],
   "source": [
    "newton_method(5, 4, 'x**3-7*x**2+8*x-3')"
   ]
  },
  {
   "cell_type": "markdown",
   "metadata": {},
   "source": [
    "### (c)"
   ]
  },
  {
   "cell_type": "code",
   "execution_count": 4,
   "metadata": {},
   "outputs": [
    {
     "name": "stdout",
     "output_type": "stream",
     "text": [
      "0.800232943226195\n",
      "0.7440943984943447\n",
      "0.7391240683567624\n",
      "0.739085135600735\n"
     ]
    }
   ],
   "source": [
    "newton_method(1, 4, 'x*cos(x)-x**2')"
   ]
  },
  {
   "cell_type": "markdown",
   "metadata": {},
   "source": [
    "https://docs.sympy.org/latest/modules/parsing.html"
   ]
  },
  {
   "cell_type": "markdown",
   "metadata": {},
   "source": [
    "https://stackoverflow.com/questions/51814567/python-how-to-get-the-value-of-one-specific-point-of-derivative"
   ]
  },
  {
   "cell_type": "markdown",
   "metadata": {},
   "source": [
    "https://dev.to/erikwhiting88/calculate-derivative-functions-in-python-h58"
   ]
  }
 ],
 "metadata": {
  "kernelspec": {
   "display_name": "Python 3",
   "language": "python",
   "name": "python3"
  },
  "language_info": {
   "codemirror_mode": {
    "name": "ipython",
    "version": 3
   },
   "file_extension": ".py",
   "mimetype": "text/x-python",
   "name": "python",
   "nbconvert_exporter": "python",
   "pygments_lexer": "ipython3",
   "version": "3.8.5"
  }
 },
 "nbformat": 4,
 "nbformat_minor": 4
}
