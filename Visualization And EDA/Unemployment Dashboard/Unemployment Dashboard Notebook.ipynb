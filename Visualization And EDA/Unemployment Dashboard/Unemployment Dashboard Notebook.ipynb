{
 "cells": [
  {
   "cell_type": "markdown",
   "metadata": {},
   "source": [
    "<h2 align=\"center\">Dashboard for Unemployment Rate</h2> \n",
    "<h4 align=\"center\">United States (2010 - 2020)</h4>\n",
    "<div align=\"center\">\n",
    "    <img src=\"index.jpg\" style=\"height: 300px; width:400px;\"/>\n",
    "</div>"
   ]
  },
  {
   "cell_type": "code",
   "execution_count": 1,
   "metadata": {},
   "outputs": [],
   "source": [
    "import dash\n",
    "from dash import html\n",
    "from dash import dcc\n",
    "import plotly.express as px\n",
    "import pandas as pd\n",
    "from dash.dependencies import Input,Output,State    \n",
    "import plotly.graph_objs as go\n",
    "import json"
   ]
  },
  {
   "cell_type": "markdown",
   "metadata": {},
   "source": [
    "<h5>We want to see unemployment rate in US from 2010 to 2020 for each category and see unemployment rate during COVID-19 for each state.</h5>"
   ]
  },
  {
   "cell_type": "code",
   "execution_count": 2,
   "metadata": {},
   "outputs": [
    {
     "name": "stdout",
     "output_type": "stream",
     "text": [
      "Shape of Unemployment Data US is  (123, 13)\n"
     ]
    }
   ],
   "source": [
    "DF = pd.read_csv('unemployment_data_us.csv')\n",
    "DF = DF.dropna()\n",
    "print('Shape of Unemployment Data US is ',DF.shape)"
   ]
  },
  {
   "cell_type": "markdown",
   "metadata": {},
   "source": [
    "<h4>Average rate in each category</h4>\n",
    "<p>The unemployment rate in the Black category is highest with a rate of 10.692683, \n",
    "    followed by the Primary category with a rate of 9.329268, and the lowest unemployment rate in the Professional Degree category is at 3.127642</p>"
   ]
  },
  {
   "cell_type": "code",
   "execution_count": 3,
   "metadata": {},
   "outputs": [
    {
     "data": {
      "text/plain": [
       "Primary_School          9.329268\n",
       "High_School             6.391057\n",
       "Associates_Degree       5.338211\n",
       "Professional_Degree     3.127642\n",
       "White                   5.455285\n",
       "Black                  10.692683\n",
       "Asian                   4.679675\n",
       "Hispanic                7.660163\n",
       "Men                     5.848780\n",
       "Women                   5.485366\n",
       "dtype: float64"
      ]
     },
     "execution_count": 3,
     "metadata": {},
     "output_type": "execute_result"
    }
   ],
   "source": [
    "DF.drop(columns=['Month','Year','Date']).mean()"
   ]
  },
  {
   "cell_type": "code",
   "execution_count": 4,
   "metadata": {},
   "outputs": [
    {
     "name": "stdout",
     "output_type": "stream",
     "text": [
      "Shape of Unemployment Data US for State is  (155, 5)\n"
     ]
    }
   ],
   "source": [
    "DF_State = pd.read_csv('unemployment_data_us_state.csv')\n",
    "DF_State['Rate'] = DF_State['Unemployment_Rate']\n",
    "DF_State=DF_State.dropna()\n",
    "print('Shape of Unemployment Data US for State is ',DF_State.shape)"
   ]
  },
  {
   "cell_type": "markdown",
   "metadata": {},
   "source": [
    "<h4>Average rate in each state during COVID-19</h4>"
   ]
  },
  {
   "cell_type": "code",
   "execution_count": 5,
   "metadata": {},
   "outputs": [
    {
     "data": {
      "text/html": [
       "<div>\n",
       "<style scoped>\n",
       "    .dataframe tbody tr th:only-of-type {\n",
       "        vertical-align: middle;\n",
       "    }\n",
       "\n",
       "    .dataframe tbody tr th {\n",
       "        vertical-align: top;\n",
       "    }\n",
       "\n",
       "    .dataframe thead th {\n",
       "        text-align: right;\n",
       "    }\n",
       "</style>\n",
       "<table border=\"1\" class=\"dataframe\">\n",
       "  <thead>\n",
       "    <tr style=\"text-align: right;\">\n",
       "      <th></th>\n",
       "      <th>Unemployment_Rate</th>\n",
       "      <th>Rate</th>\n",
       "    </tr>\n",
       "    <tr>\n",
       "      <th>State</th>\n",
       "      <th></th>\n",
       "      <th></th>\n",
       "    </tr>\n",
       "  </thead>\n",
       "  <tbody>\n",
       "    <tr>\n",
       "      <th>Puerto Rico</th>\n",
       "      <td>6.700000</td>\n",
       "      <td>6.700000</td>\n",
       "    </tr>\n",
       "    <tr>\n",
       "      <th>Alaska</th>\n",
       "      <td>5.800000</td>\n",
       "      <td>5.800000</td>\n",
       "    </tr>\n",
       "    <tr>\n",
       "      <th>Kentucky</th>\n",
       "      <td>5.100000</td>\n",
       "      <td>5.100000</td>\n",
       "    </tr>\n",
       "    <tr>\n",
       "      <th>West Virginia</th>\n",
       "      <td>4.933333</td>\n",
       "      <td>4.933333</td>\n",
       "    </tr>\n",
       "    <tr>\n",
       "      <th>Arizona</th>\n",
       "      <td>4.833333</td>\n",
       "      <td>4.833333</td>\n",
       "    </tr>\n",
       "  </tbody>\n",
       "</table>\n",
       "</div>"
      ],
      "text/plain": [
       "               Unemployment_Rate      Rate\n",
       "State                                     \n",
       "Puerto Rico             6.700000  6.700000\n",
       "Alaska                  5.800000  5.800000\n",
       "Kentucky                5.100000  5.100000\n",
       "West Virginia           4.933333  4.933333\n",
       "Arizona                 4.833333  4.833333"
      ]
     },
     "execution_count": 5,
     "metadata": {},
     "output_type": "execute_result"
    }
   ],
   "source": [
    "unemploymentState= DF_State.drop(columns=['Date']).groupby('State').mean().sort_values(by='Rate',ascending=False)\n",
    "unemploymentState.head()"
   ]
  },
  {
   "cell_type": "code",
   "execution_count": 6,
   "metadata": {},
   "outputs": [],
   "source": [
    "# Coordinates for  each country, helps in building the map\n",
    "f = open('gz_2010_us_040_00_500k.json')\n",
    "geojson = json.load(f)"
   ]
  },
  {
   "cell_type": "code",
   "execution_count": 7,
   "metadata": {},
   "outputs": [],
   "source": [
    "app = dash.Dash(__name__,external_stylesheets = ['https://codepen.io/chriddyp/pen/bWLwgP.css'])"
   ]
  },
  {
   "cell_type": "code",
   "execution_count": 8,
   "metadata": {},
   "outputs": [],
   "source": [
    "app.layout = html.Div([\n",
    "    # Title Dashboard\n",
    "    html.H1('US Unemployment Rate (2010-2020)',  \n",
    "            style = {'color':'White','backgroundColor':'DarkCyan','fontsize':40,'textAlign':'center'}),\n",
    "    \n",
    "    #  First div contains two main parts , the first for a line chart and the other for the big numbers\n",
    "    html.Div([        \n",
    "        #First Graph Lines for features and change data of year \n",
    "        html.Div([\n",
    "                dcc.Graph(id='lineFig',figure={}),\n",
    "                dcc.Slider(id='sliderLineFig',min=DF.Year.min(), \n",
    "                max=DF.Year.max(), value=DF.Year.min(),marks={str(i):str(i) for i in DF.Year.unique()})\n",
    "        ], className='eight columns'),\n",
    "        \n",
    "        #Big Numbers\n",
    "        html.Div([ \n",
    "            html.Div([ \n",
    "                html.H3(str(round(DF.Primary_School.mean(),3)),  style = {'color':'DarkCyan','textAlign':'center'}),\n",
    "                html.H5('Primary School',style = {'color':'Silver','textAlign':'center'}),\n",
    "            \n",
    "                html.H3(str(round(DF.High_School.mean(),3)),style = {'color':'DarkCyan','textAlign':'center'}),\n",
    "                html.H5('High School',style = {'color':'Silver','textAlign':'center'}), \n",
    "                \n",
    "                html.H3(str(round(DF.Associates_Degree.mean(),3)),style = {'color':'DarkCyan','textAlign':'center'}),\n",
    "                html.H5('Associates Degree',style = {'color':'Silver','textAlign':'center'}), \n",
    "                \n",
    "                html.H3(str(round(DF.Professional_Degree.mean(),3)),style = {'color':'DarkCyan','textAlign':'center'}),\n",
    "                html.H5('Professional Degree',style = {'color':'Silver','textAlign':'center'}), \n",
    "                \n",
    "                html.H3(str(round(DF.White.mean(),3)),style = {'color':'DarkCyan','textAlign':'center'}), \n",
    "                html.H5('White',style = {'color':'Silver','textAlign':'center'})\n",
    "            ],className='six columns'),\n",
    "        \n",
    "        \n",
    "           html.Div([\n",
    "               html.H3(str(round(DF.Black.mean(),3)),style =  {'color':'DarkCyan','textAlign':'center'}),\n",
    "               html.H5('Black',style = {'color':'Silver','textAlign':'center'}), \n",
    "               \n",
    "               html.H3(str(round(DF.Asian.mean(),3)),style =  {'color':'DarkCyan','textAlign':'center'}),\n",
    "               html.H5('Asian',style = {'color':'Silver','textAlign':'center'}), \n",
    "               \n",
    "               html.H3(str(round(DF.Hispanic.mean(),3)),style =  {'color':'DarkCyan','textAlign':'center'}),\n",
    "               html.H5('Hispanic',style =  {'color':'Silver','textAlign':'center'}), \n",
    "               \n",
    "               html.H3(str(round(DF.Men.mean(),3)),style =  {'color':'DarkCyan','textAlign':'center'}),\n",
    "               html.H5('Men',style = {'color':'Silver','textAlign':'center'}), \n",
    "               \n",
    "               html.H3(str(round(DF.Women.mean(),3)),style = {'color':'DarkCyan','textAlign':'center'}),  \n",
    "               html.H5('Women',style =  {'color':'Silver','textAlign':'center'}) \n",
    "           ],className='six columns')\n",
    "        ], className='four columns',style = {'backgroundColor':'GhostWhite'})\n",
    "        \n",
    "    ]),\n",
    "\n",
    "    # Second div contains the two drop down for desigred features.\n",
    "    html.Div([ \n",
    "               html.Div([  dcc.Dropdown(id='dropdown_1', options=[{'label':str(c), \n",
    "                    'value':str(c)}for c in DF.drop(columns=['Year','Month','Date']).columns], \n",
    "                     value='White')],className='three columns'),\n",
    "                \n",
    "               html.Div([  dcc.Dropdown(id='dropdown_2', options=[{'label':str(c), \n",
    "                    'value':str(c)}for c in DF.drop(columns=['Year','Month','Date']).columns], \n",
    "                     value='Black')], className='three columns')\n",
    "            ]),\n",
    "\n",
    "    # Third div contains two parts first for bar chart, the other for the map.\n",
    "    html.Div([\n",
    "        html.Div([\n",
    "            dcc.Graph(id='barChart', figure={})\n",
    "            ], className='seven columns'),\n",
    "        \n",
    "        \n",
    "        html.Div([\n",
    "            dcc.Graph(id='mapChart', figure={}, style={'margin-left' : '-110px'})\n",
    "            ], className='two columns')\n",
    "        \n",
    "    ])\n",
    "\n",
    "],style={'backgroundColor':'DarkCyan'})\n",
    "\n",
    "\n",
    "\n",
    "@app.callback(\n",
    "    Output(component_id='lineFig', component_property='figure'),\n",
    "    Output(component_id='barChart', component_property='figure'),\n",
    "    Output(component_id='mapChart', component_property='figure'),\n",
    "\n",
    "    Input(component_id='sliderLineFig', component_property='value'),\n",
    "    Input(component_id='dropdown_1', component_property='value'),\n",
    "    Input(component_id='dropdown_2', component_property='value')\n",
    "\n",
    "\n",
    ")\n",
    "def update_output(value,dropdown_1,dropdown_2):\n",
    "    \"\"\"\n",
    "    Takes the needed features names to change the graphs based on them, returens a new updated graphs.\n",
    "    \"\"\"\n",
    "    \n",
    "    Color = ['DarkTurquoise', 'CadetBlue','Gray','DarkSeaGreen','DarkSlateGray', 'Silver','SteelBlue','PaleTurquoise','DarkOliveGreen','SeaGreen']\n",
    "    #Graph_1 Line\n",
    "    lineFig = px.line(DF[DF['Year']==value],x='Month', \n",
    "                      y=DF.drop(columns=['Month','Year','Date']).columns,width=900, height=400,\n",
    "                     title='A line showing unemployment rate for each category',labels={'value':'Unemployment Rate'}\n",
    "                     ,color_discrete_map={i:j for i,j in zip( DF.drop(columns=['Year','Month','Date']).columns,Color)})\n",
    "    lineFig.update_layout(plot_bgcolor=\"white\")\n",
    "    #lineFig.update_layout(title_font_color=\"DarkCyan\")\n",
    "    \n",
    "    #Graph_2 Bar Chart\n",
    "    df_mm = DF.groupby('Year').agg('mean').reset_index()\n",
    "\n",
    "    fig_1 = go.Bar( x = list(df_mm['Year']), y = df_mm[dropdown_1], name = dropdown_1,\n",
    "            text = df_mm[dropdown_1].round(), textposition = 'outside',texttemplate = '%{text: .2}', marker={'color':'LightGray'})\n",
    "   \n",
    "    fig_2 = go.Bar( x = df_mm['Year'], y = df_mm[dropdown_2], name = dropdown_2,text = df_mm[dropdown_2].round(),\n",
    "            textposition = 'outside', texttemplate = '%{text: .2}',marker={'color':'CadetBlue'})\n",
    "\n",
    "    fig = [fig_1, fig_2]\n",
    "    layout = go.Layout(title = dropdown_1+' and '+dropdown_2, barmode = 'relative', template='simple_white',width=700,height=550)\n",
    "    barChart = go.Figure(data = fig, layout = layout)\n",
    "\n",
    "    \n",
    "    #Graph_3 Map\n",
    "    map_ = px.choropleth(DF_State, geojson=geojson, color=\"Rate\",locations=\"State\", featureidkey=\"properties.NAME\",\n",
    "                  scope='usa', width=600,height=600,color_continuous_scale=\"Viridis\", title='                      2020 US Unemployment Rate')\n",
    "    \n",
    "    return lineFig, barChart, map_  "
   ]
  },
  {
   "cell_type": "code",
   "execution_count": null,
   "metadata": {},
   "outputs": [
    {
     "name": "stdout",
     "output_type": "stream",
     "text": [
      "Dash is running on http://127.0.0.1:8050/\n",
      "\n",
      " * Serving Flask app \"__main__\" (lazy loading)\n",
      " * Environment: production\n",
      "   WARNING: This is a development server. Do not use it in a production deployment.\n",
      "   Use a production WSGI server instead.\n",
      " * Debug mode: off\n"
     ]
    },
    {
     "name": "stderr",
     "output_type": "stream",
     "text": [
      " * Running on http://127.0.0.1:8050/ (Press CTRL+C to quit)\n",
      "127.0.0.1 - - [29/Oct/2021 10:32:33] \"\u001b[37mGET / HTTP/1.1\u001b[0m\" 200 -\n",
      "127.0.0.1 - - [29/Oct/2021 10:32:34] \"\u001b[37mGET /_dash-layout HTTP/1.1\u001b[0m\" 200 -\n",
      "127.0.0.1 - - [29/Oct/2021 10:32:34] \"\u001b[37mGET /_dash-dependencies HTTP/1.1\u001b[0m\" 200 -\n",
      "127.0.0.1 - - [29/Oct/2021 10:32:34] \"\u001b[36mGET /_dash-component-suites/dash/dcc/async-graph.js HTTP/1.1\u001b[0m\" 304 -\n",
      "127.0.0.1 - - [29/Oct/2021 10:32:34] \"\u001b[36mGET /_dash-component-suites/dash/dcc/async-slider.js HTTP/1.1\u001b[0m\" 304 -\n",
      "127.0.0.1 - - [29/Oct/2021 10:32:34] \"\u001b[36mGET /_dash-component-suites/dash/dcc/async-plotlyjs.js HTTP/1.1\u001b[0m\" 304 -\n",
      "127.0.0.1 - - [29/Oct/2021 10:32:34] \"\u001b[36mGET /_dash-component-suites/dash/dcc/async-dropdown.js HTTP/1.1\u001b[0m\" 304 -\n",
      "127.0.0.1 - - [29/Oct/2021 10:32:38] \"\u001b[37mPOST /_dash-update-component HTTP/1.1\u001b[0m\" 200 -\n"
     ]
    }
   ],
   "source": [
    "# Initiating the server\n",
    "app.run_server()"
   ]
  },
  {
   "cell_type": "code",
   "execution_count": null,
   "metadata": {},
   "outputs": [],
   "source": []
  }
 ],
 "metadata": {
  "kernelspec": {
   "display_name": "Python 3",
   "language": "python",
   "name": "python3"
  },
  "language_info": {
   "codemirror_mode": {
    "name": "ipython",
    "version": 3
   },
   "file_extension": ".py",
   "mimetype": "text/x-python",
   "name": "python",
   "nbconvert_exporter": "python",
   "pygments_lexer": "ipython3",
   "version": "3.8.5"
  }
 },
 "nbformat": 4,
 "nbformat_minor": 4
}
