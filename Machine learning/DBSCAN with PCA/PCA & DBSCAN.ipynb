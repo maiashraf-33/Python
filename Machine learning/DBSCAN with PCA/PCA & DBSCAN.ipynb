{
 "cells": [
  {
   "cell_type": "markdown",
   "metadata": {},
   "source": [
    "# PCA"
   ]
  },
  {
   "cell_type": "code",
   "execution_count": 1,
   "metadata": {},
   "outputs": [],
   "source": [
    "# Import libraries\n",
    "import pandas as pd\n",
    "import numpy as np\n",
    "import seaborn as sns\n",
    "import matplotlib.pyplot as plt\n",
    "from sklearn.preprocessing import StandardScaler\n",
    "from sklearn.metrics import silhouette_score"
   ]
  },
  {
   "cell_type": "code",
   "execution_count": 2,
   "metadata": {
    "scrolled": true
   },
   "outputs": [
    {
     "data": {
      "text/html": [
       "<div>\n",
       "<style scoped>\n",
       "    .dataframe tbody tr th:only-of-type {\n",
       "        vertical-align: middle;\n",
       "    }\n",
       "\n",
       "    .dataframe tbody tr th {\n",
       "        vertical-align: top;\n",
       "    }\n",
       "\n",
       "    .dataframe thead th {\n",
       "        text-align: right;\n",
       "    }\n",
       "</style>\n",
       "<table border=\"1\" class=\"dataframe\">\n",
       "  <thead>\n",
       "    <tr style=\"text-align: right;\">\n",
       "      <th></th>\n",
       "      <th>Country</th>\n",
       "      <th>Region</th>\n",
       "      <th>Population</th>\n",
       "      <th>Area (sq. mi.)</th>\n",
       "      <th>Pop. Density (per sq. mi.)</th>\n",
       "      <th>Coastline (coast/area ratio)</th>\n",
       "      <th>Net migration</th>\n",
       "      <th>Infant mortality (per 1000 births)</th>\n",
       "      <th>GDP ($ per capita)</th>\n",
       "      <th>Literacy (%)</th>\n",
       "      <th>Phones (per 1000)</th>\n",
       "      <th>Arable (%)</th>\n",
       "      <th>Crops (%)</th>\n",
       "      <th>Other (%)</th>\n",
       "      <th>Climate</th>\n",
       "      <th>Birthrate</th>\n",
       "      <th>Deathrate</th>\n",
       "      <th>Agriculture</th>\n",
       "      <th>Industry</th>\n",
       "      <th>Service</th>\n",
       "    </tr>\n",
       "  </thead>\n",
       "  <tbody>\n",
       "    <tr>\n",
       "      <th>0</th>\n",
       "      <td>Afghanistan</td>\n",
       "      <td>ASIA (EX. NEAR EAST)</td>\n",
       "      <td>31056997</td>\n",
       "      <td>647500</td>\n",
       "      <td>48.0</td>\n",
       "      <td>0.00</td>\n",
       "      <td>23.06</td>\n",
       "      <td>163.07</td>\n",
       "      <td>700.0</td>\n",
       "      <td>36.0</td>\n",
       "      <td>3.2</td>\n",
       "      <td>12.13</td>\n",
       "      <td>0.22</td>\n",
       "      <td>87.65</td>\n",
       "      <td>1.0</td>\n",
       "      <td>46.60</td>\n",
       "      <td>20.34</td>\n",
       "      <td>0.380</td>\n",
       "      <td>0.240</td>\n",
       "      <td>0.380</td>\n",
       "    </tr>\n",
       "    <tr>\n",
       "      <th>1</th>\n",
       "      <td>Albania</td>\n",
       "      <td>EASTERN EUROPE</td>\n",
       "      <td>3581655</td>\n",
       "      <td>28748</td>\n",
       "      <td>124.6</td>\n",
       "      <td>1.26</td>\n",
       "      <td>-4.93</td>\n",
       "      <td>21.52</td>\n",
       "      <td>4500.0</td>\n",
       "      <td>86.5</td>\n",
       "      <td>71.2</td>\n",
       "      <td>21.09</td>\n",
       "      <td>4.42</td>\n",
       "      <td>74.49</td>\n",
       "      <td>3.0</td>\n",
       "      <td>15.11</td>\n",
       "      <td>5.22</td>\n",
       "      <td>0.232</td>\n",
       "      <td>0.188</td>\n",
       "      <td>0.579</td>\n",
       "    </tr>\n",
       "    <tr>\n",
       "      <th>2</th>\n",
       "      <td>Algeria</td>\n",
       "      <td>NORTHERN AFRICA</td>\n",
       "      <td>32930091</td>\n",
       "      <td>2381740</td>\n",
       "      <td>13.8</td>\n",
       "      <td>0.04</td>\n",
       "      <td>-0.39</td>\n",
       "      <td>31.00</td>\n",
       "      <td>6000.0</td>\n",
       "      <td>70.0</td>\n",
       "      <td>78.1</td>\n",
       "      <td>3.22</td>\n",
       "      <td>0.25</td>\n",
       "      <td>96.53</td>\n",
       "      <td>1.0</td>\n",
       "      <td>17.14</td>\n",
       "      <td>4.61</td>\n",
       "      <td>0.101</td>\n",
       "      <td>0.600</td>\n",
       "      <td>0.298</td>\n",
       "    </tr>\n",
       "  </tbody>\n",
       "</table>\n",
       "</div>"
      ],
      "text/plain": [
       "        Country                               Region  Population  \\\n",
       "0  Afghanistan         ASIA (EX. NEAR EAST)             31056997   \n",
       "1      Albania   EASTERN EUROPE                          3581655   \n",
       "2      Algeria   NORTHERN AFRICA                        32930091   \n",
       "\n",
       "   Area (sq. mi.)  Pop. Density (per sq. mi.)  Coastline (coast/area ratio)  \\\n",
       "0          647500                        48.0                          0.00   \n",
       "1           28748                       124.6                          1.26   \n",
       "2         2381740                        13.8                          0.04   \n",
       "\n",
       "   Net migration  Infant mortality (per 1000 births)  GDP ($ per capita)  \\\n",
       "0          23.06                              163.07               700.0   \n",
       "1          -4.93                               21.52              4500.0   \n",
       "2          -0.39                               31.00              6000.0   \n",
       "\n",
       "   Literacy (%)  Phones (per 1000)  Arable (%)  Crops (%)  Other (%)  Climate  \\\n",
       "0          36.0                3.2       12.13       0.22      87.65      1.0   \n",
       "1          86.5               71.2       21.09       4.42      74.49      3.0   \n",
       "2          70.0               78.1        3.22       0.25      96.53      1.0   \n",
       "\n",
       "   Birthrate  Deathrate  Agriculture  Industry  Service  \n",
       "0      46.60      20.34        0.380     0.240    0.380  \n",
       "1      15.11       5.22        0.232     0.188    0.579  \n",
       "2      17.14       4.61        0.101     0.600    0.298  "
      ]
     },
     "execution_count": 2,
     "metadata": {},
     "output_type": "execute_result"
    }
   ],
   "source": [
    "# Read data\n",
    "# This data is already preprocessed\n",
    "df = pd.read_csv('out.csv')\n",
    "df.head(3)"
   ]
  },
  {
   "cell_type": "code",
   "execution_count": 3,
   "metadata": {},
   "outputs": [],
   "source": [
    "# df = pd.get_dummies(df, columns=['Region'])"
   ]
  },
  {
   "cell_type": "code",
   "execution_count": 4,
   "metadata": {},
   "outputs": [
    {
     "data": {
      "text/plain": [
       "(227, 20)"
      ]
     },
     "execution_count": 4,
     "metadata": {},
     "output_type": "execute_result"
    }
   ],
   "source": [
    "df.shape"
   ]
  },
  {
   "cell_type": "code",
   "execution_count": 5,
   "metadata": {},
   "outputs": [],
   "source": [
    "# Dropping both 'Country' & 'Region' \n",
    "df.drop(['Country', 'Region'], axis=1, inplace=True)"
   ]
  },
  {
   "cell_type": "code",
   "execution_count": 6,
   "metadata": {},
   "outputs": [],
   "source": [
    "# Convert the data frame to a numpy array\n",
    "df_to_np = df.to_numpy()\n",
    "\n",
    "# data scaling\n",
    "scaler = StandardScaler()\n",
    "X = scaler.fit_transform(df_to_np)"
   ]
  },
  {
   "cell_type": "code",
   "execution_count": 7,
   "metadata": {},
   "outputs": [
    {
     "data": {
      "text/plain": [
       "array([[ 1.00442478e+00,  4.72064664e-01, -2.83152108e-02,\n",
       "        -6.85007021e-02,  1.09161732e-05,  2.30957216e-02,\n",
       "        -3.94933424e-02, -4.35677664e-02, -3.09396277e-02,\n",
       "         1.89033802e-01, -6.10095904e-02, -1.21108290e-01,\n",
       "        -2.65559351e-02, -4.52749398e-02, -2.84789588e-02,\n",
       "         3.76425038e-04,  9.95470874e-02, -8.10382961e-02],\n",
       "       [ 4.72064664e-01,  1.00442478e+00, -6.72130913e-02,\n",
       "        -9.60506155e-02,  4.76522550e-02, -7.19101610e-03,\n",
       "         7.24988603e-02,  3.59421659e-02,  5.35957236e-02,\n",
       "        -8.00263519e-02, -1.44480775e-01,  1.39518889e-01,\n",
       "        -8.24910722e-02, -6.66829932e-02,  4.02259996e-02,\n",
       "        -5.06025506e-02,  1.21442370e-01, -5.43188123e-02],\n",
       "       [-2.83152108e-02, -6.72130913e-02,  1.00442478e+00,\n",
       "         2.42758942e-01,  1.78777541e-01, -1.44837657e-01,\n",
       "         1.96616682e-01,  9.54764819e-02,  2.81318248e-01,\n",
       "        -8.13574184e-02, -3.17952778e-02,  8.22057196e-02,\n",
       "         6.86068504e-03, -1.59854479e-01, -7.03316040e-02,\n",
       "        -1.06393206e-01, -1.05990626e-01,  1.88629455e-01],\n",
       "       [-6.85007021e-02, -9.60506155e-02,  2.42758942e-01,\n",
       "         1.00442478e+00, -1.34627987e-01, -1.37069027e-01,\n",
       "         4.93259382e-02,  1.14153968e-01,  1.52722695e-01,\n",
       "        -1.21169413e-01,  3.42943881e-01, -7.97551278e-02,\n",
       "        -3.17534880e-02, -7.60505028e-02, -1.62418311e-01,\n",
       "        -2.86093459e-02, -1.85943037e-01,  1.82744390e-01],\n",
       "       [ 1.09161732e-05,  4.76522550e-02,  1.78777541e-01,\n",
       "        -1.34627987e-01,  1.00442478e+00, -2.51260372e-02,\n",
       "         3.83659503e-01, -8.54375977e-03,  2.40482992e-01,\n",
       "        -5.79441219e-02, -3.41655737e-01,  2.23801404e-01,\n",
       "        -1.49435266e-02, -6.68172576e-02,  3.37538468e-02,\n",
       "        -1.06141134e-01, -2.37839422e-02,  1.14199777e-01],\n",
       "       [ 2.30957216e-02, -7.19101610e-03, -1.44837657e-01,\n",
       "        -1.37069027e-01, -2.51260372e-02,  1.00442478e+00,\n",
       "        -6.02656523e-01, -7.48841935e-01, -6.72677858e-01,\n",
       "        -1.13594362e-01, -6.14295186e-02,  1.23616703e-01,\n",
       "        -3.44364882e-01,  8.48707006e-01,  6.58635472e-01,\n",
       "         7.00387980e-01,  3.52545641e-03, -6.21360423e-01],\n",
       "       [-3.94933424e-02,  7.24988603e-02,  1.96616682e-01,\n",
       "         4.93259382e-02,  3.83659503e-01, -6.02656523e-01,\n",
       "         1.00442478e+00,  5.00166164e-01,  8.34223779e-01,\n",
       "         1.97304059e-02, -2.19296179e-01,  9.76454347e-02,\n",
       "         3.03741608e-01, -6.51679047e-01, -2.02038187e-01,\n",
       "        -5.73260388e-01, -2.80585810e-02,  5.32340451e-01],\n",
       "       [-4.35677664e-02,  3.59421659e-02,  9.54764819e-02,\n",
       "         1.14153968e-01, -8.54375977e-03, -7.48841935e-01,\n",
       "         5.00166164e-01,  1.00442478e+00,  5.52346440e-01,\n",
       "         1.02378128e-01,  3.89794051e-02, -1.02892486e-01,\n",
       "         3.54129083e-01, -7.58537261e-01, -3.88085166e-01,\n",
       "        -5.88083053e-01,  6.09292784e-02,  4.67766176e-01],\n",
       "       [-3.09396277e-02,  5.35957236e-02,  2.81318248e-01,\n",
       "         1.52722695e-01,  2.40482992e-01, -6.72677858e-01,\n",
       "         8.34223779e-01,  5.52346440e-01,  1.00442478e+00,\n",
       "         5.98693844e-02, -1.50178650e-01,  2.94464777e-02,\n",
       "         3.60161014e-01, -7.25525236e-01, -2.60857615e-01,\n",
       "        -5.74233221e-01, -1.41137400e-01,  6.28539169e-01],\n",
       "       [ 1.89033802e-01, -8.00263519e-02, -8.13574184e-02,\n",
       "        -1.21169413e-01, -5.79441219e-02, -1.13594362e-01,\n",
       "         1.97304059e-02,  1.02378128e-01,  5.98693844e-02,\n",
       "         1.00442478e+00,  9.47781988e-02, -8.60553577e-01,\n",
       "         3.55008012e-01, -1.84260775e-01,  5.32255937e-02,\n",
       "        -3.42303470e-02, -6.21971293e-02,  8.90415974e-02],\n",
       "       [-6.10095904e-02, -1.44480775e-01, -3.17952778e-02,\n",
       "         3.42943881e-01, -3.41655737e-01, -6.14295186e-02,\n",
       "        -2.19296179e-01,  3.89794051e-02, -1.50178650e-01,\n",
       "         9.47781988e-02,  1.00442478e+00, -5.96883858e-01,\n",
       "         4.13879426e-03,  1.18372008e-01, -2.02411725e-01,\n",
       "         5.15937994e-02, -1.14299570e-01,  5.22104255e-02],\n",
       "       [-1.21108290e-01,  1.39518889e-01,  8.22057196e-02,\n",
       "        -7.97551278e-02,  2.23801404e-01,  1.23616703e-01,\n",
       "         9.76454347e-02, -1.02892486e-01,  2.94464777e-02,\n",
       "        -8.60553577e-01, -5.96883858e-01,  1.00442478e+00,\n",
       "        -2.88904829e-01,  8.75090546e-02,  6.18970930e-02,\n",
       "         9.57896401e-04,  1.09434842e-01, -9.89897567e-02],\n",
       "       [-2.65559351e-02, -8.24910722e-02,  6.86068504e-03,\n",
       "        -3.17534880e-02, -1.49435266e-02, -3.44364882e-01,\n",
       "         3.03741608e-01,  3.54129083e-01,  3.60161014e-01,\n",
       "         3.55008012e-01,  4.13879426e-03, -2.88904829e-01,\n",
       "         1.00442478e+00, -4.29470455e-01,  1.05046051e-02,\n",
       "        -2.01302635e-01, -9.03224165e-02,  2.62065182e-01],\n",
       "       [-4.52749398e-02, -6.66829932e-02, -1.59854479e-01,\n",
       "        -7.60505028e-02, -6.68172576e-02,  8.48707006e-01,\n",
       "        -6.51679047e-01, -7.58537261e-01, -7.25525236e-01,\n",
       "        -1.84260775e-01,  1.18372008e-01,  8.75090546e-02,\n",
       "        -4.29470455e-01,  1.00442478e+00,  3.97042356e-01,\n",
       "         6.67845152e-01, -5.58719317e-02, -5.45988292e-01],\n",
       "       [-2.84789588e-02,  4.02259996e-02, -7.03316040e-02,\n",
       "        -1.62418311e-01,  3.37538468e-02,  6.58635472e-01,\n",
       "        -2.02038187e-01, -3.88085166e-01, -2.60857615e-01,\n",
       "         5.32255937e-02, -2.02411725e-01,  6.18970930e-02,\n",
       "         1.05046051e-02,  3.97042356e-01,  1.00442478e+00,\n",
       "         3.77955623e-01,  2.66439313e-02, -3.53148604e-01],\n",
       "       [ 3.76425038e-04, -5.06025506e-02, -1.06393206e-01,\n",
       "        -2.86093459e-02, -1.06141134e-01,  7.00387980e-01,\n",
       "        -5.73260388e-01, -5.88083053e-01, -5.74233221e-01,\n",
       "        -3.42303470e-02,  5.15937994e-02,  9.57896401e-04,\n",
       "        -2.01302635e-01,  6.67845152e-01,  3.77955623e-01,\n",
       "         1.00442478e+00, -3.24324619e-01, -6.18279518e-01],\n",
       "       [ 9.95470874e-02,  1.21442370e-01, -1.05990626e-01,\n",
       "        -1.85943037e-01, -2.37839422e-02,  3.52545641e-03,\n",
       "        -2.80585810e-02,  6.09292784e-02, -1.41137400e-01,\n",
       "        -6.21971293e-02, -1.14299570e-01,  1.09434842e-01,\n",
       "        -9.03224165e-02, -5.58719317e-02,  2.66439313e-02,\n",
       "        -3.24324619e-01,  1.00442478e+00, -5.45708633e-01],\n",
       "       [-8.10382961e-02, -5.43188123e-02,  1.88629455e-01,\n",
       "         1.82744390e-01,  1.14199777e-01, -6.21360423e-01,\n",
       "         5.32340451e-01,  4.67766176e-01,  6.28539169e-01,\n",
       "         8.90415974e-02,  5.22104255e-02, -9.89897567e-02,\n",
       "         2.62065182e-01, -5.45988292e-01, -3.53148604e-01,\n",
       "        -6.18279518e-01, -5.45708633e-01,  1.00442478e+00]])"
      ]
     },
     "execution_count": 7,
     "metadata": {},
     "output_type": "execute_result"
    }
   ],
   "source": [
    "# Get the covariance matrix from our data\n",
    "cov = np.cov(X.T)\n",
    "cov"
   ]
  },
  {
   "cell_type": "code",
   "execution_count": 8,
   "metadata": {},
   "outputs": [],
   "source": [
    "def pca(X):\n",
    "    '''\n",
    "        Calculate eigen vectors and eigen values for \n",
    "        a covariance matrix.\n",
    "        \n",
    "        Parameters\n",
    "        ----------\n",
    "        X: a covariance matrix\n",
    "        \n",
    "        Returns\n",
    "        -------\n",
    "        eigen_val: eigen values \n",
    "        eigen_vec: eign vectors\n",
    "    '''\n",
    "    eig = np.linalg.eig(X)\n",
    "    eigen_val = eig[0]\n",
    "    eigen_vec = eig[1]\n",
    "    return eigen_val, eigen_vec"
   ]
  },
  {
   "cell_type": "code",
   "execution_count": 9,
   "metadata": {},
   "outputs": [],
   "source": [
    "# Call pca function\n",
    "eig_vals, eig_vec = pca(cov)"
   ]
  },
  {
   "cell_type": "code",
   "execution_count": 10,
   "metadata": {},
   "outputs": [
    {
     "data": {
      "text/plain": [
       "array([0.29805844, 0.43583299, 0.53890625, 0.62611531, 0.69926618,\n",
       "       0.75533695, 0.80455657, 0.84362537, 0.87704149, 0.90706043,\n",
       "       0.93332639, 0.95413063, 0.97706096, 0.98751417, 0.99224601,\n",
       "       0.99986306, 0.99999999, 1.        ])"
      ]
     },
     "execution_count": 10,
     "metadata": {},
     "output_type": "execute_result"
    }
   ],
   "source": [
    "# calculate the cumulative eigenvalues\n",
    "eig_vals_cumsum = eig_vals.cumsum()/np.sum(eig_vals)\n",
    "eig_vals_cumsum"
   ]
  },
  {
   "cell_type": "code",
   "execution_count": 11,
   "metadata": {},
   "outputs": [
    {
     "data": {
      "image/png": "[encoded data removed]",
      "text/plain": [
       "<Figure size 432x288 with 1 Axes>"
      ]
     },
     "metadata": {
      "needs_background": "light"
     },
     "output_type": "display_data"
    }
   ],
   "source": [
    "# Draw the cumulative eigenvalues to select how much eigenvalues keeps about 95% of the variance.\n",
    "sns.barplot(x=np.arange(18), y=eig_vals_cumsum)\n",
    "plt.xlabel('Index for eigenvalues')\n",
    "plt.ylabel('Variance')\n",
    "plt.title('Best eigen vectors')\n",
    "plt.show()"
   ]
  },
  {
   "cell_type": "code",
   "execution_count": 12,
   "metadata": {},
   "outputs": [
    {
     "data": {
      "text/plain": [
       "11"
      ]
     },
     "execution_count": 12,
     "metadata": {},
     "output_type": "execute_result"
    }
   ],
   "source": [
    "# Here me can actually see the suitable number of eigen values\n",
    "(eig_vals_cumsum <= 0.95).sum()"
   ]
  },
  {
   "cell_type": "code",
   "execution_count": 13,
   "metadata": {},
   "outputs": [
    {
     "data": {
      "text/plain": [
       "(11, 18)"
      ]
     },
     "execution_count": 13,
     "metadata": {},
     "output_type": "execute_result"
    }
   ],
   "source": [
    "eig_vec[:11].shape"
   ]
  },
  {
   "cell_type": "code",
   "execution_count": 14,
   "metadata": {},
   "outputs": [],
   "source": [
    "# Projection step in the direction of the high variance features\n",
    "new_data = X @ eig_vec[:11].T\n"
   ]
  },
  {
   "cell_type": "code",
   "execution_count": 15,
   "metadata": {},
   "outputs": [
    {
     "data": {
      "text/plain": [
       "(227, 18)"
      ]
     },
     "execution_count": 15,
     "metadata": {},
     "output_type": "execute_result"
    }
   ],
   "source": [
    "# Data before applying the pca\n",
    "X.shape"
   ]
  },
  {
   "cell_type": "code",
   "execution_count": 16,
   "metadata": {},
   "outputs": [
    {
     "data": {
      "text/plain": [
       "(227, 11)"
      ]
     },
     "execution_count": 16,
     "metadata": {},
     "output_type": "execute_result"
    }
   ],
   "source": [
    "# Data before applying the pca, with low number of dimensions\n",
    "new_data.shape"
   ]
  },
  {
   "cell_type": "code",
   "execution_count": 17,
   "metadata": {},
   "outputs": [],
   "source": [
    "# Convert data after applying the pca to a data frame\n",
    "data_from_pca = pd.DataFrame(new_data)\n",
    "\n",
    "# Save the data from pca in a new file\n",
    "data_from_pca.to_csv('new_out.csv', index=False)"
   ]
  },
  {
   "cell_type": "markdown",
   "metadata": {},
   "source": [
    "# DBSCAN"
   ]
  },
  {
   "cell_type": "code",
   "execution_count": 18,
   "metadata": {},
   "outputs": [
    {
     "data": {
      "text/html": [
       "<div>\n",
       "<style scoped>\n",
       "    .dataframe tbody tr th:only-of-type {\n",
       "        vertical-align: middle;\n",
       "    }\n",
       "\n",
       "    .dataframe tbody tr th {\n",
       "        vertical-align: top;\n",
       "    }\n",
       "\n",
       "    .dataframe thead th {\n",
       "        text-align: right;\n",
       "    }\n",
       "</style>\n",
       "<table border=\"1\" class=\"dataframe\">\n",
       "  <thead>\n",
       "    <tr style=\"text-align: right;\">\n",
       "      <th></th>\n",
       "      <th>1</th>\n",
       "      <th>2</th>\n",
       "      <th>3</th>\n",
       "      <th>4</th>\n",
       "      <th>5</th>\n",
       "      <th>6</th>\n",
       "      <th>7</th>\n",
       "      <th>8</th>\n",
       "      <th>9</th>\n",
       "      <th>10</th>\n",
       "    </tr>\n",
       "  </thead>\n",
       "  <tbody>\n",
       "    <tr>\n",
       "      <th>0</th>\n",
       "      <td>2.470546</td>\n",
       "      <td>1.947393</td>\n",
       "      <td>3.561001</td>\n",
       "      <td>3.618469</td>\n",
       "      <td>1.598928</td>\n",
       "      <td>0.739733</td>\n",
       "      <td>-1.695859</td>\n",
       "      <td>-1.406650</td>\n",
       "      <td>0.989427</td>\n",
       "      <td>2.150449</td>\n",
       "    </tr>\n",
       "    <tr>\n",
       "      <th>1</th>\n",
       "      <td>-0.734091</td>\n",
       "      <td>-0.288280</td>\n",
       "      <td>-1.233166</td>\n",
       "      <td>0.084258</td>\n",
       "      <td>-0.830251</td>\n",
       "      <td>1.224129</td>\n",
       "      <td>0.138959</td>\n",
       "      <td>0.140316</td>\n",
       "      <td>-0.288651</td>\n",
       "      <td>0.027628</td>\n",
       "    </tr>\n",
       "    <tr>\n",
       "      <th>2</th>\n",
       "      <td>-0.068520</td>\n",
       "      <td>-0.916306</td>\n",
       "      <td>1.179232</td>\n",
       "      <td>0.903446</td>\n",
       "      <td>-0.494174</td>\n",
       "      <td>-0.975258</td>\n",
       "      <td>0.093174</td>\n",
       "      <td>-0.533309</td>\n",
       "      <td>1.928762</td>\n",
       "      <td>0.274019</td>\n",
       "    </tr>\n",
       "    <tr>\n",
       "      <th>3</th>\n",
       "      <td>-2.057896</td>\n",
       "      <td>-1.173156</td>\n",
       "      <td>-1.499484</td>\n",
       "      <td>-0.675407</td>\n",
       "      <td>-1.555166</td>\n",
       "      <td>-0.394498</td>\n",
       "      <td>1.356684</td>\n",
       "      <td>-0.366941</td>\n",
       "      <td>0.097437</td>\n",
       "      <td>-1.083379</td>\n",
       "    </tr>\n",
       "    <tr>\n",
       "      <th>4</th>\n",
       "      <td>0.681920</td>\n",
       "      <td>0.293329</td>\n",
       "      <td>0.049644</td>\n",
       "      <td>-1.911718</td>\n",
       "      <td>-0.101077</td>\n",
       "      <td>0.736564</td>\n",
       "      <td>-0.819799</td>\n",
       "      <td>0.908039</td>\n",
       "      <td>0.248648</td>\n",
       "      <td>-1.254856</td>\n",
       "    </tr>\n",
       "  </tbody>\n",
       "</table>\n",
       "</div>"
      ],
      "text/plain": [
       "          1         2         3         4         5         6         7  \\\n",
       "0  2.470546  1.947393  3.561001  3.618469  1.598928  0.739733 -1.695859   \n",
       "1 -0.734091 -0.288280 -1.233166  0.084258 -0.830251  1.224129  0.138959   \n",
       "2 -0.068520 -0.916306  1.179232  0.903446 -0.494174 -0.975258  0.093174   \n",
       "3 -2.057896 -1.173156 -1.499484 -0.675407 -1.555166 -0.394498  1.356684   \n",
       "4  0.681920  0.293329  0.049644 -1.911718 -0.101077  0.736564 -0.819799   \n",
       "\n",
       "          8         9        10  \n",
       "0 -1.406650  0.989427  2.150449  \n",
       "1  0.140316 -0.288651  0.027628  \n",
       "2 -0.533309  1.928762  0.274019  \n",
       "3 -0.366941  0.097437 -1.083379  \n",
       "4  0.908039  0.248648 -1.254856  "
      ]
     },
     "execution_count": 18,
     "metadata": {},
     "output_type": "execute_result"
    }
   ],
   "source": [
    "# read data\n",
    "df_pca = pd.read_csv('new_out.csv').iloc[:, 1:]\n",
    "df_pca.head()"
   ]
  },
  {
   "cell_type": "code",
   "execution_count": 19,
   "metadata": {},
   "outputs": [],
   "source": [
    "# df_pca = scaler.fit_transform(df_pca)"
   ]
  },
  {
   "cell_type": "code",
   "execution_count": 20,
   "metadata": {},
   "outputs": [],
   "source": [
    "# implement the NearestNeighbors to know what is the best epsilon for our DBSCAN model\n",
    "from sklearn.neighbors import NearestNeighbors\n",
    "\n",
    "mins = 7\n",
    "nn = NearestNeighbors(n_neighbors = mins)\n",
    "nn.fit(df_pca)\n",
    "distances, _ = nn.kneighbors(df_pca)\n",
    "distances = np.sort(distances[:, 3], axis=0)"
   ]
  },
  {
   "cell_type": "code",
   "execution_count": 21,
   "metadata": {
    "scrolled": true
   },
   "outputs": [
    {
     "data": {
      "image/png": "[encoded data removed]",
      "text/plain": [
       "<Figure size 432x288 with 1 Axes>"
      ]
     },
     "metadata": {
      "needs_background": "light"
     },
     "output_type": "display_data"
    }
   ],
   "source": [
    "# plot the distance between each point and the farthest seventh point from each\n",
    "sns.lineplot(x=np.arange(len(distances)), y=distances)\n",
    "plt.xlabel('Index')\n",
    "plt.ylabel('Distances')\n",
    "plt.show()"
   ]
  },
  {
   "cell_type": "code",
   "execution_count": 22,
   "metadata": {},
   "outputs": [],
   "source": [
    "# Apply DBSCAN with the selected epsilon\n",
    "from sklearn.cluster import DBSCAN\n",
    "\n",
    "model = DBSCAN(eps = 2.5, min_samples = 5).fit(df_pca)\n",
    "df_pca['labels'] = model.labels_"
   ]
  },
  {
   "cell_type": "code",
   "execution_count": 23,
   "metadata": {
    "scrolled": true
   },
   "outputs": [
    {
     "data": {
      "text/html": [
       "<div>\n",
       "<style scoped>\n",
       "    .dataframe tbody tr th:only-of-type {\n",
       "        vertical-align: middle;\n",
       "    }\n",
       "\n",
       "    .dataframe tbody tr th {\n",
       "        vertical-align: top;\n",
       "    }\n",
       "\n",
       "    .dataframe thead th {\n",
       "        text-align: right;\n",
       "    }\n",
       "</style>\n",
       "<table border=\"1\" class=\"dataframe\">\n",
       "  <thead>\n",
       "    <tr style=\"text-align: right;\">\n",
       "      <th></th>\n",
       "      <th>1</th>\n",
       "      <th>2</th>\n",
       "      <th>3</th>\n",
       "      <th>4</th>\n",
       "      <th>5</th>\n",
       "      <th>6</th>\n",
       "      <th>7</th>\n",
       "      <th>8</th>\n",
       "      <th>9</th>\n",
       "      <th>10</th>\n",
       "      <th>labels</th>\n",
       "    </tr>\n",
       "  </thead>\n",
       "  <tbody>\n",
       "    <tr>\n",
       "      <th>0</th>\n",
       "      <td>2.470546</td>\n",
       "      <td>1.947393</td>\n",
       "      <td>3.561001</td>\n",
       "      <td>3.618469</td>\n",
       "      <td>1.598928</td>\n",
       "      <td>0.739733</td>\n",
       "      <td>-1.695859</td>\n",
       "      <td>-1.406650</td>\n",
       "      <td>0.989427</td>\n",
       "      <td>2.150449</td>\n",
       "      <td>-1</td>\n",
       "    </tr>\n",
       "    <tr>\n",
       "      <th>1</th>\n",
       "      <td>-0.734091</td>\n",
       "      <td>-0.288280</td>\n",
       "      <td>-1.233166</td>\n",
       "      <td>0.084258</td>\n",
       "      <td>-0.830251</td>\n",
       "      <td>1.224129</td>\n",
       "      <td>0.138959</td>\n",
       "      <td>0.140316</td>\n",
       "      <td>-0.288651</td>\n",
       "      <td>0.027628</td>\n",
       "      <td>0</td>\n",
       "    </tr>\n",
       "    <tr>\n",
       "      <th>2</th>\n",
       "      <td>-0.068520</td>\n",
       "      <td>-0.916306</td>\n",
       "      <td>1.179232</td>\n",
       "      <td>0.903446</td>\n",
       "      <td>-0.494174</td>\n",
       "      <td>-0.975258</td>\n",
       "      <td>0.093174</td>\n",
       "      <td>-0.533309</td>\n",
       "      <td>1.928762</td>\n",
       "      <td>0.274019</td>\n",
       "      <td>0</td>\n",
       "    </tr>\n",
       "    <tr>\n",
       "      <th>3</th>\n",
       "      <td>-2.057896</td>\n",
       "      <td>-1.173156</td>\n",
       "      <td>-1.499484</td>\n",
       "      <td>-0.675407</td>\n",
       "      <td>-1.555166</td>\n",
       "      <td>-0.394498</td>\n",
       "      <td>1.356684</td>\n",
       "      <td>-0.366941</td>\n",
       "      <td>0.097437</td>\n",
       "      <td>-1.083379</td>\n",
       "      <td>0</td>\n",
       "    </tr>\n",
       "    <tr>\n",
       "      <th>4</th>\n",
       "      <td>0.681920</td>\n",
       "      <td>0.293329</td>\n",
       "      <td>0.049644</td>\n",
       "      <td>-1.911718</td>\n",
       "      <td>-0.101077</td>\n",
       "      <td>0.736564</td>\n",
       "      <td>-0.819799</td>\n",
       "      <td>0.908039</td>\n",
       "      <td>0.248648</td>\n",
       "      <td>-1.254856</td>\n",
       "      <td>0</td>\n",
       "    </tr>\n",
       "  </tbody>\n",
       "</table>\n",
       "</div>"
      ],
      "text/plain": [
       "          1         2         3         4         5         6         7  \\\n",
       "0  2.470546  1.947393  3.561001  3.618469  1.598928  0.739733 -1.695859   \n",
       "1 -0.734091 -0.288280 -1.233166  0.084258 -0.830251  1.224129  0.138959   \n",
       "2 -0.068520 -0.916306  1.179232  0.903446 -0.494174 -0.975258  0.093174   \n",
       "3 -2.057896 -1.173156 -1.499484 -0.675407 -1.555166 -0.394498  1.356684   \n",
       "4  0.681920  0.293329  0.049644 -1.911718 -0.101077  0.736564 -0.819799   \n",
       "\n",
       "          8         9        10  labels  \n",
       "0 -1.406650  0.989427  2.150449      -1  \n",
       "1  0.140316 -0.288651  0.027628       0  \n",
       "2 -0.533309  1.928762  0.274019       0  \n",
       "3 -0.366941  0.097437 -1.083379       0  \n",
       "4  0.908039  0.248648 -1.254856       0  "
      ]
     },
     "execution_count": 23,
     "metadata": {},
     "output_type": "execute_result"
    }
   ],
   "source": [
    "df_pca.head()"
   ]
  },
  {
   "cell_type": "code",
   "execution_count": 24,
   "metadata": {},
   "outputs": [
    {
     "data": {
      "text/plain": [
       "0.8016031619906552"
      ]
     },
     "execution_count": 24,
     "metadata": {},
     "output_type": "execute_result"
    }
   ],
   "source": [
    "# calculate silhouette score\n",
    "silhouette_score(df, df_pca['labels'])"
   ]
  }
 ],
 "metadata": {
  "kernelspec": {
   "display_name": "Python 3",
   "language": "python",
   "name": "python3"
  },
  "language_info": {
   "codemirror_mode": {
    "name": "ipython",
    "version": 3
   },
   "file_extension": ".py",
   "mimetype": "text/x-python",
   "name": "python",
   "nbconvert_exporter": "python",
   "pygments_lexer": "ipython3",
   "version": "3.8.5"
  }
 },
 "nbformat": 4,
 "nbformat_minor": 4
}
