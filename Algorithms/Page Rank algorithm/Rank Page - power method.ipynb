{
 "cells": [
  {
   "cell_type": "markdown",
   "metadata": {},
   "source": [
    "# Rank Page Algorithm"
   ]
  },
  {
   "cell_type": "code",
   "execution_count": 51,
   "metadata": {},
   "outputs": [],
   "source": [
    "import networkx as nx\n",
    "import numpy as np \n",
    "\n",
    "class page_rank:\n",
    "    \n",
    "    def __init__(self, d, pages):\n",
    "        self.option = int(input(\"Select your pages formula\\n\"\n",
    "                    \"If you entered a graph press: 1\\n\"\n",
    "                    \"If you entered a adjacency matrix press: 2\\n\"\n",
    "                    \"If you entered a stochastic matrix press: 3\\n\"))\n",
    "        self.pages = pages\n",
    "        self.d = d\n",
    "\n",
    "            \n",
    "    def to_adjacency(self, p):\n",
    "        g = nx.Graph(p)\n",
    "        return nx.to_numpy_matrix(g)\n",
    "    \n",
    "    def to_stochastic(self, p):\n",
    "        return (p/p.sum(axis=0))\n",
    "        \n",
    "    def transform(self):\n",
    "        if self.option == 1:\n",
    "            adj = self.to_adjacency(self.pages)\n",
    "            mat = self.to_stochastic(adj)\n",
    "            \n",
    "        if self.option == 2:\n",
    "            mat = self.to_stochastic(self.pages)\n",
    "        if self.option == 3:\n",
    "            mat = self.pages\n",
    "        return mat\n",
    "    \n",
    "    def run(self):\n",
    "        mat = self.transform()\n",
    "        n = mat.shape[0]\n",
    "        M = mat*self.d + ((1-self.d)/n)* np.ones([n, n])\n",
    "        r = (100 * np.ones(n) / n).reshape(n, 1)\n",
    "\n",
    "        for i in range(100):\n",
    "            r = M @ r\n",
    "        return r"
   ]
  },
  {
   "cell_type": "code",
   "execution_count": 59,
   "metadata": {},
   "outputs": [
    {
     "name": "stdout",
     "output_type": "stream",
     "text": [
      "Select your pages formula\n",
      "If you entered a graph press: 1\n",
      "If you entered a adjacency matrix press: 2\n",
      "If you entered a stochastic matrix press: 3\n",
      "1\n"
     ]
    },
    {
     "data": {
      "text/plain": [
       "matrix([[15.00029744],\n",
       "        [ 9.99993733],\n",
       "        [15.00032125],\n",
       "        [14.99963644],\n",
       "        [10.0002638 ],\n",
       "        [ 9.99972661],\n",
       "        [ 5.00014705],\n",
       "        [ 9.99991845],\n",
       "        [ 9.99975163]])"
      ]
     },
     "execution_count": 59,
     "metadata": {},
     "output_type": "execute_result"
    }
   ],
   "source": [
    "graph1 = {\n",
    "    '0':['1','3','8'],\n",
    "    '1':['7'],\n",
    "    '2':['3','5'],\n",
    "    '3':['2','4'],\n",
    "    '4':['3','8'],\n",
    "    '5':['2','6'],\n",
    "    '6':['5'],\n",
    "    '7':['2'],\n",
    "    '8':['4'], \n",
    "}\n",
    "\n",
    "adj = np.mod(np.random.permutation(4*4).reshape(4,4),2)  \n",
    "\n",
    "# stocha = np.array([  0.00000002,   0.00000091,   0.00000002,   0.00000001,\n",
    "#          0.00000064,   0.00000002,   0.00000082,  99.99999657,\n",
    "#          0.00000095,   0.00000004])\n",
    "\n",
    "pr = page_rank(1, graph1)\n",
    "pr.run()"
   ]
  }
 ],
 "metadata": {
  "kernelspec": {
   "display_name": "Python 3",
   "language": "python",
   "name": "python3"
  },
  "language_info": {
   "codemirror_mode": {
    "name": "ipython",
    "version": 3
   },
   "file_extension": ".py",
   "mimetype": "text/x-python",
   "name": "python",
   "nbconvert_exporter": "python",
   "pygments_lexer": "ipython3",
   "version": "3.8.5"
  }
 },
 "nbformat": 4,
 "nbformat_minor": 4
}
