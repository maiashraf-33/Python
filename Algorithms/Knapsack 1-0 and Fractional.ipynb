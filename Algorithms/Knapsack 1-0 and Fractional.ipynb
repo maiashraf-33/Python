{
 "cells": [
  {
   "cell_type": "code",
   "execution_count": 85,
   "metadata": {},
   "outputs": [],
   "source": [
    "class knapsack:\n",
    "\n",
    "    def __init__(self, weights, values, capacity):\n",
    "        self.weights = weights\n",
    "        self.values = values\n",
    "        self.capacity = capacity\n",
    "        self.ns_type = int(input(\"Which type do you need?\\nFor fractional press 1\\nFor 1/o press 0\\n\"))\n",
    "        self.cost_function = int(input(\"The cost function\\nFor maximum Profit press 0\\nFor minimum Weight press 1\\nFor Maximum Profit/Weigh press 2\\n\"))\n",
    "        \n",
    "    def knapsack_10(self):\n",
    "        weights_combinations = [sum(list((a, b))) for idx, a in enumerate(weights) for b in weights[idx + 1:]]\n",
    "        values_combinations = [sum(list((a, b))) for idx, a in enumerate(values) for b in values[idx + 1:]]\n",
    "        lst = list(zip(weights_combinations, values_combinations))\n",
    "        \n",
    "        if self.cost_function == 0:\n",
    "            lst.sort(key = lambda x: x[1])\n",
    "            return lst[-1][1]\n",
    "            \n",
    "        if self.cost_function == 1:\n",
    "            lst.sort(key = lambda x: x[0])\n",
    "            return lst[0][0]\n",
    "        else:\n",
    "            optimal = 0\n",
    "            for i in range(len(weights_combinations)):\n",
    "                if (weights_combinations[i] <= self.capacity) and (values_combinations[i] >= optimal):\n",
    "                    optimal = values_combinations[i]\n",
    "            return optimal \n",
    "    \n",
    "    def fractional_knapsack(self):\n",
    "        unit = [(j//i)for i, j in zip(self.weights, self.values)]\n",
    "        wt_val_unit = list(zip(self.weights, self.values, unit))\n",
    "        wt_val_unit.sort(reverse=False) # for maxinum profit and weight\n",
    "       \n",
    "        if self.cost_function == 0:\n",
    "            wt_val_unit.sort(key = lambda x: x[1])\n",
    "            return wt_val_unit[-1][1]\n",
    "        if self.cost_function == 1:\n",
    "            wt_val_unit.sort(key = lambda x: x[1])\n",
    "            return wt_val_unit[0][0]\n",
    "\n",
    "        totalValue = 0\n",
    "        for i in wt_val_unit:\n",
    "            curWt = i[0]\n",
    "            curVal = i[1]\n",
    "            if self.capacity - curWt >= 0:\n",
    "                self.capacity -= curWt\n",
    "                totalValue += curVal\n",
    "            else:\n",
    "                fraction = self.capacity / curWt\n",
    "                totalValue += curVal * fraction\n",
    "                self.capacity = int(self.capacity - (curWt * fraction))\n",
    "        return totalValue\n",
    "\n",
    "    def run(self):\n",
    "        if self.ns_type == 1:\n",
    "            return self.fractional_knapsack()\n",
    "        if self.ns_type == 0:\n",
    "            return self.knapsack_10()"
   ]
  },
  {
   "cell_type": "code",
   "execution_count": 88,
   "metadata": {},
   "outputs": [
    {
     "name": "stdout",
     "output_type": "stream",
     "text": [
      "Which type do you need?\n",
      "For fractional press 1\n",
      "For 1/o press 0\n",
      "1\n",
      "The cost function\n",
      "For maximum Profit press 0\n",
      "For minimum Weight press 1\n",
      "For Maximum Profit/Weigh press 2\n",
      "2\n"
     ]
    },
    {
     "data": {
      "text/plain": [
       "240.0"
      ]
     },
     "execution_count": 88,
     "metadata": {},
     "output_type": "execute_result"
    }
   ],
   "source": [
    "values = [60, 100, 120]\n",
    "weights = [10, 20, 30]\n",
    "knapsack_capacity = 50\n",
    "ns = knapsack(weights, values ,knapsack_capacity)\n",
    "ns.run()"
   ]
  },
  {
   "cell_type": "code",
   "execution_count": 60,
   "metadata": {
    "scrolled": true
   },
   "outputs": [
    {
     "name": "stdout",
     "output_type": "stream",
     "text": [
      "Which type do you need?\n",
      "For fractional press 1\n",
      "For 1/o press 0\n",
      "4\n",
      "The cost function\n",
      "For maximum Profit press 0\n",
      "For minimum Weight press 1\n",
      "For Maximum Profit/Weigh press 2\n",
      "3\n",
      "[(10, 60, 6), (10, 100, 10), (30, 120, 4), (60, 180, 3)]\n"
     ]
    },
    {
     "data": {
      "text/plain": [
       "280.0"
      ]
     },
     "execution_count": 60,
     "metadata": {},
     "output_type": "execute_result"
    }
   ],
   "source": [
    "wt = [10, 60, 10, 30]\n",
    "val = [60, 180, 100, 120]\n",
    "capacity = 50\n",
    "ns = knapsack(wt, val ,capacity)\n",
    "ns.run()"
   ]
  },
  {
   "cell_type": "code",
   "execution_count": null,
   "metadata": {},
   "outputs": [],
   "source": []
  }
 ],
 "metadata": {
  "kernelspec": {
   "display_name": "Python 3",
   "language": "python",
   "name": "python3"
  },
  "language_info": {
   "codemirror_mode": {
    "name": "ipython",
    "version": 3
   },
   "file_extension": ".py",
   "mimetype": "text/x-python",
   "name": "python",
   "nbconvert_exporter": "python",
   "pygments_lexer": "ipython3",
   "version": "3.8.5"
  }
 },
 "nbformat": 4,
 "nbformat_minor": 4
}
