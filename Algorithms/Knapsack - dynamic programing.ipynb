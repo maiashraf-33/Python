{
 "cells": [
  {
   "cell_type": "code",
   "execution_count": 1,
   "metadata": {
    "scrolled": true
   },
   "outputs": [],
   "source": [
    "import numpy as np\n",
    "\n",
    "def DKS(weights, profits, capacity):\n",
    "    \"\"\"This function taks list of weights\n",
    "       ,profits and the capacity of the knapsack\n",
    "       it returns a matrix of profits from each step\n",
    "    \"\"\"\n",
    "    weights_seq = list(range(capacity+1))\n",
    "    mat = np.zeros((len(weights),capacity+1))\n",
    "\n",
    "    for j in range(1,len(weights)):\n",
    "        for i in range(capacity+1):\n",
    "            if weights_seq[i] < weights[j]:\n",
    "                mat[j][i] = mat[j-1][i]\n",
    "            else:\n",
    "                pro = i-weights[j]\n",
    "                pp = mat[j-1][pro]\n",
    "                mat[j][i] = max(profits[j]+pp, mat[j-1][i])\n",
    "    return mat "
   ]
  },
  {
   "cell_type": "code",
   "execution_count": 2,
   "metadata": {},
   "outputs": [
    {
     "data": {
      "text/plain": [
       "array([[ 0.,  0.,  0.,  0.,  0.,  0.,  0.,  0.,  0.],\n",
       "       [ 0.,  0.,  3.,  3.,  3.,  3.,  3.,  3.,  3.],\n",
       "       [ 0.,  0.,  3.,  4.,  4.,  7.,  7.,  7.,  7.],\n",
       "       [ 0.,  0.,  3.,  4.,  4.,  7.,  7.,  9., 10.]])"
      ]
     },
     "execution_count": 2,
     "metadata": {},
     "output_type": "execute_result"
    }
   ],
   "source": [
    "p = [0,3,4,6]\n",
    "w = [0,2,3,5]\n",
    "DKS(w, p, 8)"
   ]
  },
  {
   "cell_type": "code",
   "execution_count": 3,
   "metadata": {},
   "outputs": [
    {
     "data": {
      "text/plain": [
       "array([[0., 0., 0., 0., 0., 0., 0., 0., 0.],\n",
       "       [0., 0., 0., 2., 2., 2., 2., 2., 2.],\n",
       "       [0., 0., 0., 2., 3., 3., 3., 5., 5.],\n",
       "       [0., 0., 0., 2., 3., 4., 4., 5., 6.],\n",
       "       [0., 0., 0., 2., 3., 4., 4., 5., 6.]])"
      ]
     },
     "execution_count": 3,
     "metadata": {},
     "output_type": "execute_result"
    }
   ],
   "source": [
    "p = [0,2,3,4,1]\n",
    "w = [0,3,4,5,6]\n",
    "DKS(w, p, 8)"
   ]
  },
  {
   "cell_type": "code",
   "execution_count": null,
   "metadata": {},
   "outputs": [],
   "source": []
  }
 ],
 "metadata": {
  "kernelspec": {
   "display_name": "Python 3",
   "language": "python",
   "name": "python3"
  },
  "language_info": {
   "codemirror_mode": {
    "name": "ipython",
    "version": 3
   },
   "file_extension": ".py",
   "mimetype": "text/x-python",
   "name": "python",
   "nbconvert_exporter": "python",
   "pygments_lexer": "ipython3",
   "version": "3.8.5"
  }
 },
 "nbformat": 4,
 "nbformat_minor": 4
}
