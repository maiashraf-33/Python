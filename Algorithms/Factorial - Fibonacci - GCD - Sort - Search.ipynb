{
 "cells": [
  {
   "cell_type": "markdown",
   "metadata": {},
   "source": [
    "### Factorial"
   ]
  },
  {
   "cell_type": "markdown",
   "metadata": {},
   "source": [
    "Using recursion"
   ]
  },
  {
   "cell_type": "code",
   "execution_count": 4,
   "metadata": {},
   "outputs": [
    {
     "data": {
      "text/plain": [
       "120"
      ]
     },
     "execution_count": 4,
     "metadata": {},
     "output_type": "execute_result"
    }
   ],
   "source": [
    "def rec_fact(n):\n",
    "    if(n <= 1) :\n",
    "        return 1\n",
    "    else:\n",
    "        return n*rec_fact(n-1)\n",
    "rec_fact(5)"
   ]
  },
  {
   "cell_type": "markdown",
   "metadata": {},
   "source": [
    "Iterative"
   ]
  },
  {
   "cell_type": "code",
   "execution_count": 48,
   "metadata": {},
   "outputs": [
    {
     "data": {
      "text/plain": [
       "120"
      ]
     },
     "execution_count": 48,
     "metadata": {},
     "output_type": "execute_result"
    }
   ],
   "source": [
    "def iter_fact(n):\n",
    "    fact=1\n",
    "    for i in range(1,n+1):\n",
    "        fact = i*fact\n",
    "    return fact\n",
    "iter_fact(5)"
   ]
  },
  {
   "cell_type": "markdown",
   "metadata": {},
   "source": [
    "### Fibonacci"
   ]
  },
  {
   "cell_type": "markdown",
   "metadata": {},
   "source": [
    "Recursion"
   ]
  },
  {
   "cell_type": "code",
   "execution_count": 34,
   "metadata": {},
   "outputs": [
    {
     "data": {
      "text/plain": [
       "34"
      ]
     },
     "execution_count": 34,
     "metadata": {},
     "output_type": "execute_result"
    }
   ],
   "source": [
    "def fib(n, a = 0, b = 1):\n",
    "    if n == 0:\n",
    "        return a\n",
    "    if n == 1:\n",
    "        return b\n",
    "    return fib(n - 1, b, a + b)\n",
    "\n",
    "fib(9)"
   ]
  },
  {
   "cell_type": "code",
   "execution_count": 36,
   "metadata": {},
   "outputs": [
    {
     "data": {
      "text/plain": [
       "34"
      ]
     },
     "execution_count": 36,
     "metadata": {},
     "output_type": "execute_result"
    }
   ],
   "source": [
    "def fib_rec(n, lst=[0,1]):\n",
    "    \n",
    "    if n == 0:\n",
    "        return lst[-1]\n",
    "    if n==1:\n",
    "        return lst[-2]\n",
    "    else:\n",
    "        lst.append(lst[-1]+lst[-2])\n",
    "        \n",
    "        return fib_rec(n-1, lst)\n",
    "    \n",
    "fib_rec(10)"
   ]
  },
  {
   "cell_type": "markdown",
   "metadata": {},
   "source": [
    "Iterative"
   ]
  },
  {
   "cell_type": "code",
   "execution_count": 6,
   "metadata": {},
   "outputs": [
    {
     "data": {
      "text/plain": [
       "[0, 1, 1, 2, 3, 5, 8, 13, 21, 34, 55]"
      ]
     },
     "execution_count": 6,
     "metadata": {},
     "output_type": "execute_result"
    }
   ],
   "source": [
    "def fib_iter(n):\n",
    "    lst = [0,1]\n",
    "    for i in range(2, n+1):\n",
    "        lst.append(lst[i-1]+lst[i-2])\n",
    "    return lst\n",
    "fib_iter(10)"
   ]
  },
  {
   "cell_type": "markdown",
   "metadata": {},
   "source": [
    "### GCD"
   ]
  },
  {
   "cell_type": "markdown",
   "metadata": {},
   "source": [
    "Iterative"
   ]
  },
  {
   "cell_type": "code",
   "execution_count": 26,
   "metadata": {},
   "outputs": [
    {
     "data": {
      "text/plain": [
       "25"
      ]
     },
     "execution_count": 26,
     "metadata": {},
     "output_type": "execute_result"
    }
   ],
   "source": [
    "def gcd_iter(a, b):\n",
    "    while a & b :\n",
    "        a, b = abs(a-b), a\n",
    "        if a == 0:\n",
    "            return b\n",
    "        if b == 0:\n",
    "            return a\n",
    "    \n",
    "gcd_iter(25, 50)"
   ]
  },
  {
   "cell_type": "code",
   "execution_count": 15,
   "metadata": {},
   "outputs": [
    {
     "data": {
      "text/plain": [
       "25"
      ]
     },
     "execution_count": 15,
     "metadata": {},
     "output_type": "execute_result"
    }
   ],
   "source": [
    "def gcd(s, l):\n",
    "    acepted = []\n",
    "    for i in range(2,s+1):\n",
    "        if (s%i ==0) & (l%i==0):\n",
    "            acepted.append(i)\n",
    "    return acepted[-1]\n",
    "\n",
    "gcd(25, 50)"
   ]
  },
  {
   "cell_type": "markdown",
   "metadata": {},
   "source": [
    "Recursive"
   ]
  },
  {
   "cell_type": "code",
   "execution_count": 52,
   "metadata": {},
   "outputs": [
    {
     "data": {
      "text/plain": [
       "12"
      ]
     },
     "execution_count": 52,
     "metadata": {},
     "output_type": "execute_result"
    }
   ],
   "source": [
    "def hcfnaive(a,b):\n",
    "    if(b==0):\n",
    "        return a\n",
    "    else:\n",
    "        return hcfnaive(b,a%b)\n",
    "\n",
    "hcfnaive(60,48)"
   ]
  },
  {
   "cell_type": "code",
   "execution_count": 14,
   "metadata": {},
   "outputs": [],
   "source": [
    "def gcd_rec(a, b):\n",
    "    if a == 0:\n",
    "        return b\n",
    "    if b == 0:\n",
    "        return a\n",
    "    else:\n",
    "        return gcd_rec(abs(b-a), a)"
   ]
  },
  {
   "cell_type": "code",
   "execution_count": 15,
   "metadata": {},
   "outputs": [
    {
     "data": {
      "text/plain": [
       "25"
      ]
     },
     "execution_count": 15,
     "metadata": {},
     "output_type": "execute_result"
    }
   ],
   "source": [
    "gcd_rec(25, 50)"
   ]
  },
  {
   "cell_type": "markdown",
   "metadata": {},
   "source": [
    "# Sort"
   ]
  },
  {
   "cell_type": "code",
   "execution_count": 13,
   "metadata": {},
   "outputs": [
    {
     "data": {
      "text/plain": [
       "[0, 1, 2, 9]"
      ]
     },
     "execution_count": 13,
     "metadata": {},
     "output_type": "execute_result"
    }
   ],
   "source": [
    "def insertion_sort(lst):\n",
    "    \n",
    "    for i in range(1, len(lst)):\n",
    "        while lst[i] < lst[i-1] and i!=0:\n",
    "            lst[i], lst[i-1] = lst[i-1], lst[i]\n",
    "            i = i-1\n",
    "    return lst\n",
    "\n",
    "insertion_sort([2,1,9,0])"
   ]
  },
  {
   "cell_type": "code",
   "execution_count": 1,
   "metadata": {
    "scrolled": true
   },
   "outputs": [
    {
     "data": {
      "text/plain": [
       "[0, 1, 2, 8]"
      ]
     },
     "execution_count": 1,
     "metadata": {},
     "output_type": "execute_result"
    }
   ],
   "source": [
    "def insertion_rec(lst, i):\n",
    "    \n",
    "    if len(lst) == i:\n",
    "        return lst\n",
    "    \n",
    "    else:\n",
    "        while lst[i] < lst[i-1] and i!=0:\n",
    "            lst[i], lst[i-1] = lst[i-1], lst[i]\n",
    "            i = i-1\n",
    "        return insertion_rec(lst, i+1)\n",
    "\n",
    "insertion_rec([2,8,0,1], 0)"
   ]
  },
  {
   "cell_type": "code",
   "execution_count": 2,
   "metadata": {
    "scrolled": true
   },
   "outputs": [
    {
     "data": {
      "text/plain": [
       "[1, 2, 3, 4, 8, 9]"
      ]
     },
     "execution_count": 2,
     "metadata": {},
     "output_type": "execute_result"
    }
   ],
   "source": [
    "def bubble_iter(lst):\n",
    "    for i in range(len(lst)):\n",
    "        flag = True\n",
    "        for i in range(1, len(lst)):\n",
    "            if lst[i] < lst[i-1]:\n",
    "                lst[i], lst[i-1] = lst[i-1], lst[i]\n",
    "                flag=False\n",
    "        if flag == True:\n",
    "            pass\n",
    "    return lst\n",
    "\n",
    "bubble_iter([8,2,4,1,3,9])"
   ]
  },
  {
   "cell_type": "markdown",
   "metadata": {},
   "source": [
    "# search "
   ]
  },
  {
   "cell_type": "code",
   "execution_count": 3,
   "metadata": {},
   "outputs": [],
   "source": [
    "# linear search \n",
    "def linear_search_iter(v, lst):\n",
    "    for i in lst:\n",
    "        if v == i:\n",
    "            return True"
   ]
  },
  {
   "cell_type": "code",
   "execution_count": 9,
   "metadata": {},
   "outputs": [
    {
     "name": "stdout",
     "output_type": "stream",
     "text": [
      "None\n"
     ]
    }
   ],
   "source": [
    "print(linear_search_iter(10, [0,1,3,5]))"
   ]
  },
  {
   "cell_type": "code",
   "execution_count": 19,
   "metadata": {},
   "outputs": [
    {
     "data": {
      "text/plain": [
       "False"
      ]
     },
     "execution_count": 19,
     "metadata": {},
     "output_type": "execute_result"
    }
   ],
   "source": [
    "def binary_iter(lst, n):\n",
    "    lst.sort()\n",
    "    s = 0\n",
    "    e = len(lst)-1\n",
    "\n",
    "    while s<=e:\n",
    "        mid = s+int((e-s)/2)\n",
    "        \n",
    "        if lst[mid] == n:\n",
    "            return True\n",
    "        \n",
    "        if n < lst[mid]:\n",
    "            e = mid-1\n",
    "            \n",
    "        if n > lst[mid]:\n",
    "            s = mid+1\n",
    "    return False\n",
    "\n",
    "binary_iter([2,3,1,0, 9,4], 7)"
   ]
  },
  {
   "cell_type": "code",
   "execution_count": 20,
   "metadata": {},
   "outputs": [],
   "source": [
    "def binary_rec(n, lst, s, e):\n",
    "    \"\"\"s(int) start , e(int) end\"\"\"\n",
    "    if s > e:\n",
    "        return False\n",
    "    \n",
    "    mid = s+int((e-s)/2)\n",
    "    if n == lst[mid]:\n",
    "        return True\n",
    "    \n",
    "    elif n < lst[mid]:\n",
    "        return binary_rec(n, lst, s, mid-1)\n",
    "    else:\n",
    "        return binary_rec(n, lst, mid+1, e)"
   ]
  },
  {
   "cell_type": "code",
   "execution_count": 24,
   "metadata": {
    "scrolled": true
   },
   "outputs": [
    {
     "data": {
      "text/plain": [
       "True"
      ]
     },
     "execution_count": 24,
     "metadata": {},
     "output_type": "execute_result"
    }
   ],
   "source": [
    "x = [2,0,9,6,2,8]\n",
    "x.sort()\n",
    "binary_rec(2, x, 0, 5)"
   ]
  },
  {
   "cell_type": "code",
   "execution_count": null,
   "metadata": {},
   "outputs": [],
   "source": [
    "def fib(n, a=0, b=1):\n",
    "    \n",
    "    if len(lst)-1 == n:\n",
    "        return lst\n",
    "    \n",
    "    else:\n",
    "        return bif(n, a+b, b+1)"
   ]
  }
 ],
 "metadata": {
  "kernelspec": {
   "display_name": "Python 3",
   "language": "python",
   "name": "python3"
  },
  "language_info": {
   "codemirror_mode": {
    "name": "ipython",
    "version": 3
   },
   "file_extension": ".py",
   "mimetype": "text/x-python",
   "name": "python",
   "nbconvert_exporter": "python",
   "pygments_lexer": "ipython3",
   "version": "3.8.5"
  }
 },
 "nbformat": 4,
 "nbformat_minor": 4
}
