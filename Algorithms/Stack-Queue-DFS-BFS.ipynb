{
 "cells": [
  {
   "cell_type": "markdown",
   "metadata": {},
   "source": [
    "# Stack class"
   ]
  },
  {
   "cell_type": "code",
   "execution_count": 1,
   "metadata": {},
   "outputs": [],
   "source": [
    "# Stack\n",
    "\n",
    "class stack:\n",
    "    def __init__(self, size, stack=[]):\n",
    "        self.size = size\n",
    "        self.stack = stack\n",
    "        \n",
    "    def push(self, value):\n",
    "        self.stack.append(value)\n",
    "#         print(\"Added\")\n",
    "    \n",
    "    def pop(self):\n",
    "        \n",
    "        if self.is_full():\n",
    "            print('The stack is already empty')\n",
    "#             raise(ValueError(\"\"))\n",
    "        return self.stack.pop()\n",
    "    \n",
    "    def show(self):\n",
    "        return self.stack\n",
    "    \n",
    "    def is_full(self):\n",
    "        return (self.size == len(self.stack))\n",
    "    def is_empty(self):\n",
    "        return (len(self.stack) == 0)"
   ]
  },
  {
   "cell_type": "code",
   "execution_count": 2,
   "metadata": {},
   "outputs": [],
   "source": [
    "# stk = stack(10)\n",
    "# stk.push(4)\n",
    "# stk.push(2)\n",
    "# stk.push(3)\n",
    "# stk.push(5)\n",
    "\n",
    "# stk.pop()\n",
    "# stk.show()"
   ]
  },
  {
   "cell_type": "markdown",
   "metadata": {},
   "source": [
    "# Queue class"
   ]
  },
  {
   "cell_type": "code",
   "execution_count": 3,
   "metadata": {},
   "outputs": [],
   "source": [
    "# Stack\n",
    "\n",
    "class queue:\n",
    "    def __init__(self, size, stack=[]):\n",
    "        self.size = size\n",
    "        self.stack = stack\n",
    "        \n",
    "    def enqueue(self, value):\n",
    "#         if  self.if_full():\n",
    "#             print('The stack is already full')\n",
    "#             pass\n",
    "        self.stack.append(value)\n",
    "#         print(\"Added\")\n",
    "    \n",
    "    def dequeue(self):\n",
    "        if  len(self.stack )== 0 :\n",
    "            print('The stack is already empty')\n",
    "        else:\n",
    "            return self.stack.pop(0)\n",
    "    \n",
    "    def show(self):\n",
    "        return self.stack\n",
    "    \n",
    "    def is_empty(self):\n",
    "        return (len(self.stack) == 0)"
   ]
  },
  {
   "cell_type": "code",
   "execution_count": 4,
   "metadata": {
    "scrolled": true
   },
   "outputs": [],
   "source": [
    "# q = queue(3)\n",
    "# q.enqueue(5)\n",
    "# q.enqueue(1)\n",
    "# q.enqueue(2)\n",
    "# q.enqueue(9)\n",
    "# q.show()"
   ]
  },
  {
   "cell_type": "code",
   "execution_count": 5,
   "metadata": {},
   "outputs": [],
   "source": [
    "# import networkx as nx\n",
    "G={\"a\":[\"b\",\"c\",\"e\"],\"b\":[\"a\",\"d\"],\"c\":[\"a\",\"d\",\"e\",\"f\"],\"d\":[\"b\",\"c\",\"e\"],\"e\":[\"a\",\"d\",\"c\"],\"f\":[\"c\"]}\n",
    "# g = nx.Graph(G)\n",
    "# nx.draw(g, with_labels = True)"
   ]
  },
  {
   "cell_type": "markdown",
   "metadata": {},
   "source": [
    "# DFS"
   ]
  },
  {
   "cell_type": "code",
   "execution_count": 6,
   "metadata": {
    "scrolled": true
   },
   "outputs": [
    {
     "data": {
      "text/plain": [
       "['a', 'b', 'c', 'd', 'e', 'f']"
      ]
     },
     "execution_count": 6,
     "metadata": {},
     "output_type": "execute_result"
    }
   ],
   "source": [
    "list(G.keys())"
   ]
  },
  {
   "cell_type": "code",
   "execution_count": 7,
   "metadata": {},
   "outputs": [
    {
     "data": {
      "text/plain": [
       "['a', 'e', 'c', 'f', 'd', 'b']"
      ]
     },
     "execution_count": 7,
     "metadata": {},
     "output_type": "execute_result"
    }
   ],
   "source": [
    "def DFS_iter(G, s, size=15):\n",
    "    my_stack = stack(size)\n",
    "    my_stack.show()\n",
    "    visited = []\n",
    "    my_stack.push(s)\n",
    "    \n",
    "    while  not my_stack.is_empty():\n",
    "        st = my_stack.pop()\n",
    "        my_stack.show()\n",
    "        if st not in visited:\n",
    "            visited.append(st)\n",
    "            for i in G[st]:\n",
    "                my_stack.push(i)\n",
    "    #         print(my_stack.show())\n",
    "    return visited\n",
    "DFS_iter(G, 'a')"
   ]
  },
  {
   "cell_type": "code",
   "execution_count": 8,
   "metadata": {},
   "outputs": [
    {
     "name": "stdout",
     "output_type": "stream",
     "text": [
      "['a', 'b', 'd', 'c', 'e', 'f']\n"
     ]
    }
   ],
   "source": [
    "import networkx as nx\n",
    "print(list(nx.dfs_tree(G,'a')))"
   ]
  },
  {
   "cell_type": "code",
   "execution_count": 9,
   "metadata": {},
   "outputs": [
    {
     "data": {
      "text/plain": [
       "['a', 'e', 'c', 'f', 'd', 'b']"
      ]
     },
     "execution_count": 9,
     "metadata": {},
     "output_type": "execute_result"
    }
   ],
   "source": [
    "def DFS_rec(G, s, my_stack, visited=[]):\n",
    "    \n",
    "    if len(visited) == len(G.keys()):\n",
    "        return visited\n",
    "    \n",
    "    \n",
    "#     my_stack.push(s)\n",
    "    st = my_stack.pop()\n",
    "    if st not in visited:\n",
    "        visited.append(st)\n",
    "        for i in G[st]:\n",
    "            my_stack.push(i)\n",
    "    return DFS_rec(G, s, my_stack)\n",
    "\n",
    "\n",
    "my_stack = stack(10)\n",
    "my_stack.push('a')\n",
    "DFS_rec(G, 'a', my_stack)"
   ]
  },
  {
   "cell_type": "markdown",
   "metadata": {},
   "source": [
    "# BFS"
   ]
  },
  {
   "cell_type": "code",
   "execution_count": 10,
   "metadata": {},
   "outputs": [
    {
     "data": {
      "text/plain": [
       "['a', 'b', 'c', 'e', 'd', 'f']"
      ]
     },
     "execution_count": 10,
     "metadata": {},
     "output_type": "execute_result"
    }
   ],
   "source": [
    "def BFS(G, s, queue, visited=[]):\n",
    "    \n",
    "    queue.enqueue(s)\n",
    "    while not queue.is_empty():\n",
    "        n = queue.dequeue()\n",
    "        if n not in visited:\n",
    "#             visited.append(n)\n",
    "            for i in G[n]:\n",
    "                queue.enqueue(i)\n",
    "            visited.append(n)\n",
    "    return visited\n",
    "\n",
    "q = queue(10)\n",
    "BFS(G, 'a', q)"
   ]
  },
  {
   "cell_type": "code",
   "execution_count": null,
   "metadata": {},
   "outputs": [],
   "source": []
  }
 ],
 "metadata": {
  "kernelspec": {
   "display_name": "Python 3",
   "language": "python",
   "name": "python3"
  },
  "language_info": {
   "codemirror_mode": {
    "name": "ipython",
    "version": 3
   },
   "file_extension": ".py",
   "mimetype": "text/x-python",
   "name": "python",
   "nbconvert_exporter": "python",
   "pygments_lexer": "ipython3",
   "version": "3.8.5"
  }
 },
 "nbformat": 4,
 "nbformat_minor": 4
}
